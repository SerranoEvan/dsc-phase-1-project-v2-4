{
 "cells": [
  {
   "cell_type": "markdown",
   "metadata": {},
   "source": [
    "## Phase 1 Project\n",
    "\n",
    "\n",
    "* Student name: Qilun Chen, Evan Serrano\n",
    "* Student pace: full time\n",
    "* Scheduled project review date/time: 03/10/2022\n",
    "* Instructor name: Praveen Gowtham\n",
    "* Blog post URL:https://github.com/SerranoEvan/dsc-phase-1-project-v2-4\n"
   ]
  },
  {
   "cell_type": "markdown",
   "metadata": {},
   "source": [
    "# Introduction\n",
    "\n",
    "Microsoft sees all the big companies creating original video content \n",
    "and they want to get in on the fun. They have decided to create a new movie studio, \n",
    "but they don’t know anything about creating movies.\n",
    "\n",
    "# Objectives\n",
    "\n",
    "-Find ROI:domestic ROI and world wide ROI <br>\n",
    "-Which genre do people like?<br>\n",
    "-Find the most valuable directors<br>"
   ]
  },
  {
   "cell_type": "markdown",
   "metadata": {},
   "source": [
    "### Data Import"
   ]
  },
  {
   "cell_type": "code",
   "execution_count": 85,
   "metadata": {},
   "outputs": [],
   "source": [
    "import os\n",
    "import sqlite3\n",
    "import pandas as pd\n",
    "import numpy as np\n",
    "import matplotlib.pyplot as plt\n",
    "import seaborn as sns\n",
    "\n",
    "%matplotlib inline"
   ]
  },
  {
   "cell_type": "code",
   "execution_count": 86,
   "metadata": {},
   "outputs": [],
   "source": [
    "budgets_df = pd.read_csv('zippedData/tn.movie_budgets.csv')\n",
    "movie_gross_df = pd.read_csv('zippedData/bom.movie_gross.csv')\n",
    "tmdb_movies_df = pd.read_csv('zippedData/tmdb.movies.csv')\n",
    "rt_movie_info_df = pd.read_csv('zippedData/rt.movie_info.tsv', sep = '\\t')\n",
    "rt_reviews_df = pd.read_csv('zippedData/rt.reviews.tsv', sep = '\\t', encoding = 'latin-1')\n",
    "conn = sqlite3.Connection(\"zippedData/im.db\")"
   ]
  },
  {
   "cell_type": "markdown",
   "metadata": {},
   "source": [
    "## Return on Investment Analysis"
   ]
  },
  {
   "cell_type": "markdown",
   "metadata": {},
   "source": [
    "### We want to find the ideal budget for the best chance at maximizing revenue"
   ]
  },
  {
   "cell_type": "markdown",
   "metadata": {},
   "source": [
    "#### Convert budget and revenue datasets into integers"
   ]
  },
  {
   "cell_type": "code",
   "execution_count": 87,
   "metadata": {},
   "outputs": [],
   "source": [
    "budgets_df.loc[:, 'worldwide_gross'] = budgets_df[\"worldwide_gross\"].str.replace(\",\", \"\")\n",
    "budgets_df.loc[:, 'worldwide_gross'] = budgets_df[\"worldwide_gross\"].str.replace(\"$\", \"\").astype('int64')\n",
    "budgets_df.loc[:, 'production_budget'] = budgets_df[\"production_budget\"].str.replace(\",\", \"\")\n",
    "budgets_df.loc[:, 'production_budget'] = budgets_df[\"production_budget\"].str.replace(\"$\", \"\").astype('int64')\n",
    "budgets_df.loc[:, 'domestic_gross'] = budgets_df[\"domestic_gross\"].str.replace(\",\", \"\")\n",
    "budgets_df.loc[:, 'domestic_gross'] = budgets_df[\"domestic_gross\"].str.replace(\"$\", \"\").astype('int64')"
   ]
  },
  {
   "cell_type": "markdown",
   "metadata": {},
   "source": [
    "#### Convert release date to datetime"
   ]
  },
  {
   "cell_type": "code",
   "execution_count": 150,
   "metadata": {},
   "outputs": [],
   "source": [
    "budgets_df['release_date'] = pd.to_datetime(budgets_df['release_date'])"
   ]
  },
  {
   "cell_type": "code",
   "execution_count": 151,
   "metadata": {},
   "outputs": [
    {
     "name": "stdout",
     "output_type": "stream",
     "text": [
      "<class 'pandas.core.frame.DataFrame'>\n",
      "Int64Index: 5234 entries, 5677 to 341\n",
      "Data columns (total 10 columns):\n",
      " #   Column             Non-Null Count  Dtype         \n",
      "---  ------             --------------  -----         \n",
      " 0   id                 5234 non-null   int64         \n",
      " 1   release_date       5234 non-null   datetime64[ns]\n",
      " 2   movie              5234 non-null   object        \n",
      " 3   production_budget  5234 non-null   int64         \n",
      " 4   domestic_gross     5234 non-null   int64         \n",
      " 5   worldwide_gross    5234 non-null   int64         \n",
      " 6   releaseYear        5234 non-null   int64         \n",
      " 7   worldwide_ROI      5234 non-null   float64       \n",
      " 8   domestic_ROI       5234 non-null   float64       \n",
      " 9   P/L                5234 non-null   int64         \n",
      "dtypes: datetime64[ns](1), float64(2), int64(6), object(1)\n",
      "memory usage: 609.8+ KB\n"
     ]
    }
   ],
   "source": [
    "budgets_df.info()"
   ]
  },
  {
   "cell_type": "markdown",
   "metadata": {},
   "source": [
    "#### The movie industry has changed so rapidly. Covid and the prominence of streaming services has dramatically influenced the way people consume movies. In 2020, box office revenue was only 2.09B for the North American film industry. Down from 11.32B in 2019 per Zippia Research. When we're looking at profitability, we want to use the last five years of data to try to account for trends that may no longer be applicable. "
   ]
  },
  {
   "cell_type": "markdown",
   "metadata": {},
   "source": [
    "#### Remove outlier movies with no budgets or no revenue that were either never released or the data may be unavailable "
   ]
  },
  {
   "cell_type": "code",
   "execution_count": 152,
   "metadata": {},
   "outputs": [],
   "source": [
    "budgets_df.drop(budgets_df[budgets_df['production_budget'] == 0].index, inplace = True)\n",
    "budgets_df.drop(budgets_df[budgets_df['domestic_gross'] == 0].index, inplace = True)\n",
    "budgets_df.drop(budgets_df[budgets_df['worldwide_gross'] == 0].index, inplace = True)"
   ]
  },
  {
   "cell_type": "markdown",
   "metadata": {},
   "source": [
    "#### Calculate Return on Investment (ROI) for both domestic and gross revenue columns"
   ]
  },
  {
   "cell_type": "code",
   "execution_count": 8,
   "metadata": {},
   "outputs": [],
   "source": [
    "#budgets_df.drop(budgets_df[budgets_df['production_budget'] < 10000000].index, inplace = True)"
   ]
  },
  {
   "cell_type": "code",
   "execution_count": 153,
   "metadata": {},
   "outputs": [],
   "source": [
    "budgets_df['worldwide_ROI'] = ((budgets_df['worldwide_gross'] - budgets_df['production_budget']) / budgets_df['production_budget']) * 100\n",
    "budgets_df['domestic_ROI'] = ((budgets_df['domestic_gross'] - budgets_df['production_budget']) / budgets_df['production_budget']) * 100"
   ]
  },
  {
   "cell_type": "code",
   "execution_count": 112,
   "metadata": {
    "scrolled": false
   },
   "outputs": [],
   "source": [
    "#budgets_df"
   ]
  },
  {
   "cell_type": "code",
   "execution_count": 154,
   "metadata": {},
   "outputs": [
    {
     "data": {
      "text/plain": [
       "5677   1915-02-08\n",
       "5614   1916-12-24\n",
       "5683   1920-09-17\n",
       "5606   1925-11-19\n",
       "4569   1925-12-30\n",
       "          ...    \n",
       "4534   2019-06-07\n",
       "2      2019-06-07\n",
       "580    2019-06-07\n",
       "1997   2019-06-14\n",
       "341    2019-06-14\n",
       "Name: release_date, Length: 5234, dtype: datetime64[ns]"
      ]
     },
     "execution_count": 154,
     "metadata": {},
     "output_type": "execute_result"
    }
   ],
   "source": [
    "budgets_df['release_date']"
   ]
  },
  {
   "cell_type": "code",
   "execution_count": 155,
   "metadata": {},
   "outputs": [
    {
     "data": {
      "text/plain": [
       "5677    1915\n",
       "5614    1916\n",
       "5683    1920\n",
       "5606    1925\n",
       "4569    1925\n",
       "        ... \n",
       "4534    2019\n",
       "2       2019\n",
       "580     2019\n",
       "1997    2019\n",
       "341     2019\n",
       "Name: releaseYear, Length: 5234, dtype: int64"
      ]
     },
     "execution_count": 155,
     "metadata": {},
     "output_type": "execute_result"
    }
   ],
   "source": [
    "budgets_df['releaseYear'] = budgets_df['release_date'].dt.year\n",
    "budgets_df['releaseYear']"
   ]
  },
  {
   "cell_type": "code",
   "execution_count": 158,
   "metadata": {},
   "outputs": [
    {
     "data": {
      "text/html": [
       "<div>\n",
       "<style scoped>\n",
       "    .dataframe tbody tr th:only-of-type {\n",
       "        vertical-align: middle;\n",
       "    }\n",
       "\n",
       "    .dataframe tbody tr th {\n",
       "        vertical-align: top;\n",
       "    }\n",
       "\n",
       "    .dataframe thead th {\n",
       "        text-align: right;\n",
       "    }\n",
       "</style>\n",
       "<table border=\"1\" class=\"dataframe\">\n",
       "  <thead>\n",
       "    <tr style=\"text-align: right;\">\n",
       "      <th></th>\n",
       "      <th>id</th>\n",
       "      <th>release_date</th>\n",
       "      <th>movie</th>\n",
       "      <th>production_budget</th>\n",
       "      <th>domestic_gross</th>\n",
       "      <th>worldwide_gross</th>\n",
       "      <th>releaseYear</th>\n",
       "      <th>worldwide_ROI</th>\n",
       "      <th>domestic_ROI</th>\n",
       "      <th>P/L</th>\n",
       "    </tr>\n",
       "  </thead>\n",
       "  <tbody>\n",
       "    <tr>\n",
       "      <th>1217</th>\n",
       "      <td>18</td>\n",
       "      <td>2015-01-09</td>\n",
       "      <td>Taken 3</td>\n",
       "      <td>48000000</td>\n",
       "      <td>89256424</td>\n",
       "      <td>327656424</td>\n",
       "      <td>2015</td>\n",
       "      <td>582.617550</td>\n",
       "      <td>85.950883</td>\n",
       "      <td>279656424</td>\n",
       "    </tr>\n",
       "    <tr>\n",
       "      <th>2524</th>\n",
       "      <td>25</td>\n",
       "      <td>2015-01-09</td>\n",
       "      <td>Selma</td>\n",
       "      <td>20000000</td>\n",
       "      <td>52076908</td>\n",
       "      <td>66776576</td>\n",
       "      <td>2015</td>\n",
       "      <td>233.882880</td>\n",
       "      <td>160.384540</td>\n",
       "      <td>46776576</td>\n",
       "    </tr>\n",
       "    <tr>\n",
       "      <th>2372</th>\n",
       "      <td>73</td>\n",
       "      <td>2015-01-16</td>\n",
       "      <td>The Wedding Ringer</td>\n",
       "      <td>23000000</td>\n",
       "      <td>64460211</td>\n",
       "      <td>80171596</td>\n",
       "      <td>2015</td>\n",
       "      <td>248.572157</td>\n",
       "      <td>180.261787</td>\n",
       "      <td>57171596</td>\n",
       "    </tr>\n",
       "    <tr>\n",
       "      <th>1004</th>\n",
       "      <td>5</td>\n",
       "      <td>2015-01-16</td>\n",
       "      <td>Paddington</td>\n",
       "      <td>55000000</td>\n",
       "      <td>76223578</td>\n",
       "      <td>258789097</td>\n",
       "      <td>2015</td>\n",
       "      <td>370.525631</td>\n",
       "      <td>38.588324</td>\n",
       "      <td>203789097</td>\n",
       "    </tr>\n",
       "    <tr>\n",
       "      <th>746</th>\n",
       "      <td>47</td>\n",
       "      <td>2015-01-16</td>\n",
       "      <td>Blackhat</td>\n",
       "      <td>70000000</td>\n",
       "      <td>8005980</td>\n",
       "      <td>19665004</td>\n",
       "      <td>2015</td>\n",
       "      <td>-71.907137</td>\n",
       "      <td>-88.562886</td>\n",
       "      <td>-50334996</td>\n",
       "    </tr>\n",
       "    <tr>\n",
       "      <th>...</th>\n",
       "      <td>...</td>\n",
       "      <td>...</td>\n",
       "      <td>...</td>\n",
       "      <td>...</td>\n",
       "      <td>...</td>\n",
       "      <td>...</td>\n",
       "      <td>...</td>\n",
       "      <td>...</td>\n",
       "      <td>...</td>\n",
       "      <td>...</td>\n",
       "    </tr>\n",
       "    <tr>\n",
       "      <th>4534</th>\n",
       "      <td>35</td>\n",
       "      <td>2019-06-07</td>\n",
       "      <td>Late Night</td>\n",
       "      <td>4000000</td>\n",
       "      <td>246305</td>\n",
       "      <td>246305</td>\n",
       "      <td>2019</td>\n",
       "      <td>-93.842375</td>\n",
       "      <td>-93.842375</td>\n",
       "      <td>-3753695</td>\n",
       "    </tr>\n",
       "    <tr>\n",
       "      <th>2</th>\n",
       "      <td>3</td>\n",
       "      <td>2019-06-07</td>\n",
       "      <td>Dark Phoenix</td>\n",
       "      <td>350000000</td>\n",
       "      <td>42762350</td>\n",
       "      <td>149762350</td>\n",
       "      <td>2019</td>\n",
       "      <td>-57.210757</td>\n",
       "      <td>-87.782186</td>\n",
       "      <td>-200237650</td>\n",
       "    </tr>\n",
       "    <tr>\n",
       "      <th>580</th>\n",
       "      <td>81</td>\n",
       "      <td>2019-06-07</td>\n",
       "      <td>The Secret Life of Pets 2</td>\n",
       "      <td>80000000</td>\n",
       "      <td>63795655</td>\n",
       "      <td>113351496</td>\n",
       "      <td>2019</td>\n",
       "      <td>41.689370</td>\n",
       "      <td>-20.255431</td>\n",
       "      <td>33351496</td>\n",
       "    </tr>\n",
       "    <tr>\n",
       "      <th>1997</th>\n",
       "      <td>98</td>\n",
       "      <td>2019-06-14</td>\n",
       "      <td>Shaft</td>\n",
       "      <td>30000000</td>\n",
       "      <td>600000</td>\n",
       "      <td>600000</td>\n",
       "      <td>2019</td>\n",
       "      <td>-98.000000</td>\n",
       "      <td>-98.000000</td>\n",
       "      <td>-29400000</td>\n",
       "    </tr>\n",
       "    <tr>\n",
       "      <th>341</th>\n",
       "      <td>42</td>\n",
       "      <td>2019-06-14</td>\n",
       "      <td>Men in Black: International</td>\n",
       "      <td>110000000</td>\n",
       "      <td>3100000</td>\n",
       "      <td>3100000</td>\n",
       "      <td>2019</td>\n",
       "      <td>-97.181818</td>\n",
       "      <td>-97.181818</td>\n",
       "      <td>-106900000</td>\n",
       "    </tr>\n",
       "  </tbody>\n",
       "</table>\n",
       "<p>730 rows × 10 columns</p>\n",
       "</div>"
      ],
      "text/plain": [
       "      id release_date                        movie  production_budget  \\\n",
       "1217  18   2015-01-09                      Taken 3           48000000   \n",
       "2524  25   2015-01-09                        Selma           20000000   \n",
       "2372  73   2015-01-16           The Wedding Ringer           23000000   \n",
       "1004   5   2015-01-16                   Paddington           55000000   \n",
       "746   47   2015-01-16                     Blackhat           70000000   \n",
       "...   ..          ...                          ...                ...   \n",
       "4534  35   2019-06-07                   Late Night            4000000   \n",
       "2      3   2019-06-07                 Dark Phoenix          350000000   \n",
       "580   81   2019-06-07    The Secret Life of Pets 2           80000000   \n",
       "1997  98   2019-06-14                        Shaft           30000000   \n",
       "341   42   2019-06-14  Men in Black: International          110000000   \n",
       "\n",
       "      domestic_gross  worldwide_gross  releaseYear  worldwide_ROI  \\\n",
       "1217        89256424        327656424         2015     582.617550   \n",
       "2524        52076908         66776576         2015     233.882880   \n",
       "2372        64460211         80171596         2015     248.572157   \n",
       "1004        76223578        258789097         2015     370.525631   \n",
       "746          8005980         19665004         2015     -71.907137   \n",
       "...              ...              ...          ...            ...   \n",
       "4534          246305           246305         2019     -93.842375   \n",
       "2           42762350        149762350         2019     -57.210757   \n",
       "580         63795655        113351496         2019      41.689370   \n",
       "1997          600000           600000         2019     -98.000000   \n",
       "341          3100000          3100000         2019     -97.181818   \n",
       "\n",
       "      domestic_ROI        P/L  \n",
       "1217     85.950883  279656424  \n",
       "2524    160.384540   46776576  \n",
       "2372    180.261787   57171596  \n",
       "1004     38.588324  203789097  \n",
       "746     -88.562886  -50334996  \n",
       "...            ...        ...  \n",
       "4534    -93.842375   -3753695  \n",
       "2       -87.782186 -200237650  \n",
       "580     -20.255431   33351496  \n",
       "1997    -98.000000  -29400000  \n",
       "341     -97.181818 -106900000  \n",
       "\n",
       "[730 rows x 10 columns]"
      ]
     },
     "execution_count": 158,
     "metadata": {},
     "output_type": "execute_result"
    }
   ],
   "source": [
    "recentBudgets_df = budgets_df.loc[(budgets_df['releaseYear'] > 2014) & (budgets_df['releaseYear'] < 2022)]\n",
    "recentBudgets_df"
   ]
  },
  {
   "cell_type": "code",
   "execution_count": 162,
   "metadata": {},
   "outputs": [
    {
     "data": {
      "text/html": [
       "<div>\n",
       "<style scoped>\n",
       "    .dataframe tbody tr th:only-of-type {\n",
       "        vertical-align: middle;\n",
       "    }\n",
       "\n",
       "    .dataframe tbody tr th {\n",
       "        vertical-align: top;\n",
       "    }\n",
       "\n",
       "    .dataframe thead th {\n",
       "        text-align: right;\n",
       "    }\n",
       "</style>\n",
       "<table border=\"1\" class=\"dataframe\">\n",
       "  <thead>\n",
       "    <tr style=\"text-align: right;\">\n",
       "      <th></th>\n",
       "      <th>id</th>\n",
       "      <th>release_date</th>\n",
       "      <th>movie</th>\n",
       "      <th>production_budget</th>\n",
       "      <th>domestic_gross</th>\n",
       "      <th>worldwide_gross</th>\n",
       "      <th>releaseYear</th>\n",
       "      <th>worldwide_ROI</th>\n",
       "      <th>domestic_ROI</th>\n",
       "      <th>P/L</th>\n",
       "    </tr>\n",
       "  </thead>\n",
       "  <tbody>\n",
       "    <tr>\n",
       "      <th>1217</th>\n",
       "      <td>18</td>\n",
       "      <td>2015-01-09</td>\n",
       "      <td>Taken 3</td>\n",
       "      <td>48000000</td>\n",
       "      <td>89256424</td>\n",
       "      <td>327656424</td>\n",
       "      <td>2015</td>\n",
       "      <td>582.617550</td>\n",
       "      <td>85.950883</td>\n",
       "      <td>279656424</td>\n",
       "    </tr>\n",
       "    <tr>\n",
       "      <th>2524</th>\n",
       "      <td>25</td>\n",
       "      <td>2015-01-09</td>\n",
       "      <td>Selma</td>\n",
       "      <td>20000000</td>\n",
       "      <td>52076908</td>\n",
       "      <td>66776576</td>\n",
       "      <td>2015</td>\n",
       "      <td>233.882880</td>\n",
       "      <td>160.384540</td>\n",
       "      <td>46776576</td>\n",
       "    </tr>\n",
       "    <tr>\n",
       "      <th>2372</th>\n",
       "      <td>73</td>\n",
       "      <td>2015-01-16</td>\n",
       "      <td>The Wedding Ringer</td>\n",
       "      <td>23000000</td>\n",
       "      <td>64460211</td>\n",
       "      <td>80171596</td>\n",
       "      <td>2015</td>\n",
       "      <td>248.572157</td>\n",
       "      <td>180.261787</td>\n",
       "      <td>57171596</td>\n",
       "    </tr>\n",
       "    <tr>\n",
       "      <th>1004</th>\n",
       "      <td>5</td>\n",
       "      <td>2015-01-16</td>\n",
       "      <td>Paddington</td>\n",
       "      <td>55000000</td>\n",
       "      <td>76223578</td>\n",
       "      <td>258789097</td>\n",
       "      <td>2015</td>\n",
       "      <td>370.525631</td>\n",
       "      <td>38.588324</td>\n",
       "      <td>203789097</td>\n",
       "    </tr>\n",
       "    <tr>\n",
       "      <th>746</th>\n",
       "      <td>47</td>\n",
       "      <td>2015-01-16</td>\n",
       "      <td>Blackhat</td>\n",
       "      <td>70000000</td>\n",
       "      <td>8005980</td>\n",
       "      <td>19665004</td>\n",
       "      <td>2015</td>\n",
       "      <td>-71.907137</td>\n",
       "      <td>-88.562886</td>\n",
       "      <td>-50334996</td>\n",
       "    </tr>\n",
       "    <tr>\n",
       "      <th>...</th>\n",
       "      <td>...</td>\n",
       "      <td>...</td>\n",
       "      <td>...</td>\n",
       "      <td>...</td>\n",
       "      <td>...</td>\n",
       "      <td>...</td>\n",
       "      <td>...</td>\n",
       "      <td>...</td>\n",
       "      <td>...</td>\n",
       "      <td>...</td>\n",
       "    </tr>\n",
       "    <tr>\n",
       "      <th>4534</th>\n",
       "      <td>35</td>\n",
       "      <td>2019-06-07</td>\n",
       "      <td>Late Night</td>\n",
       "      <td>4000000</td>\n",
       "      <td>246305</td>\n",
       "      <td>246305</td>\n",
       "      <td>2019</td>\n",
       "      <td>-93.842375</td>\n",
       "      <td>-93.842375</td>\n",
       "      <td>-3753695</td>\n",
       "    </tr>\n",
       "    <tr>\n",
       "      <th>2</th>\n",
       "      <td>3</td>\n",
       "      <td>2019-06-07</td>\n",
       "      <td>Dark Phoenix</td>\n",
       "      <td>350000000</td>\n",
       "      <td>42762350</td>\n",
       "      <td>149762350</td>\n",
       "      <td>2019</td>\n",
       "      <td>-57.210757</td>\n",
       "      <td>-87.782186</td>\n",
       "      <td>-200237650</td>\n",
       "    </tr>\n",
       "    <tr>\n",
       "      <th>580</th>\n",
       "      <td>81</td>\n",
       "      <td>2019-06-07</td>\n",
       "      <td>The Secret Life of Pets 2</td>\n",
       "      <td>80000000</td>\n",
       "      <td>63795655</td>\n",
       "      <td>113351496</td>\n",
       "      <td>2019</td>\n",
       "      <td>41.689370</td>\n",
       "      <td>-20.255431</td>\n",
       "      <td>33351496</td>\n",
       "    </tr>\n",
       "    <tr>\n",
       "      <th>1997</th>\n",
       "      <td>98</td>\n",
       "      <td>2019-06-14</td>\n",
       "      <td>Shaft</td>\n",
       "      <td>30000000</td>\n",
       "      <td>600000</td>\n",
       "      <td>600000</td>\n",
       "      <td>2019</td>\n",
       "      <td>-98.000000</td>\n",
       "      <td>-98.000000</td>\n",
       "      <td>-29400000</td>\n",
       "    </tr>\n",
       "    <tr>\n",
       "      <th>341</th>\n",
       "      <td>42</td>\n",
       "      <td>2019-06-14</td>\n",
       "      <td>Men in Black: International</td>\n",
       "      <td>110000000</td>\n",
       "      <td>3100000</td>\n",
       "      <td>3100000</td>\n",
       "      <td>2019</td>\n",
       "      <td>-97.181818</td>\n",
       "      <td>-97.181818</td>\n",
       "      <td>-106900000</td>\n",
       "    </tr>\n",
       "  </tbody>\n",
       "</table>\n",
       "<p>729 rows × 10 columns</p>\n",
       "</div>"
      ],
      "text/plain": [
       "      id release_date                        movie  production_budget  \\\n",
       "1217  18   2015-01-09                      Taken 3           48000000   \n",
       "2524  25   2015-01-09                        Selma           20000000   \n",
       "2372  73   2015-01-16           The Wedding Ringer           23000000   \n",
       "1004   5   2015-01-16                   Paddington           55000000   \n",
       "746   47   2015-01-16                     Blackhat           70000000   \n",
       "...   ..          ...                          ...                ...   \n",
       "4534  35   2019-06-07                   Late Night            4000000   \n",
       "2      3   2019-06-07                 Dark Phoenix          350000000   \n",
       "580   81   2019-06-07    The Secret Life of Pets 2           80000000   \n",
       "1997  98   2019-06-14                        Shaft           30000000   \n",
       "341   42   2019-06-14  Men in Black: International          110000000   \n",
       "\n",
       "      domestic_gross  worldwide_gross  releaseYear  worldwide_ROI  \\\n",
       "1217        89256424        327656424         2015     582.617550   \n",
       "2524        52076908         66776576         2015     233.882880   \n",
       "2372        64460211         80171596         2015     248.572157   \n",
       "1004        76223578        258789097         2015     370.525631   \n",
       "746          8005980         19665004         2015     -71.907137   \n",
       "...              ...              ...          ...            ...   \n",
       "4534          246305           246305         2019     -93.842375   \n",
       "2           42762350        149762350         2019     -57.210757   \n",
       "580         63795655        113351496         2019      41.689370   \n",
       "1997          600000           600000         2019     -98.000000   \n",
       "341          3100000          3100000         2019     -97.181818   \n",
       "\n",
       "      domestic_ROI        P/L  \n",
       "1217     85.950883  279656424  \n",
       "2524    160.384540   46776576  \n",
       "2372    180.261787   57171596  \n",
       "1004     38.588324  203789097  \n",
       "746     -88.562886  -50334996  \n",
       "...            ...        ...  \n",
       "4534    -93.842375   -3753695  \n",
       "2       -87.782186 -200237650  \n",
       "580     -20.255431   33351496  \n",
       "1997    -98.000000  -29400000  \n",
       "341     -97.181818 -106900000  \n",
       "\n",
       "[729 rows x 10 columns]"
      ]
     },
     "execution_count": 162,
     "metadata": {},
     "output_type": "execute_result"
    }
   ],
   "source": [
    "recentBudgets_df = recentBudgets_df.loc[(budgets_df['worldwide_ROI'] < 30000)]\n",
    "recentBudgets_df"
   ]
  },
  {
   "cell_type": "markdown",
   "metadata": {},
   "source": [
    "### Let's compare the budget with gross revenues and ROI"
   ]
  },
  {
   "cell_type": "code",
   "execution_count": 180,
   "metadata": {},
   "outputs": [
    {
     "data": {
      "text/plain": [
       "284.7528396165991"
      ]
     },
     "execution_count": 180,
     "metadata": {},
     "output_type": "execute_result"
    }
   ],
   "source": [
    "recentBudgets_df['worldwide_ROI'].mean()"
   ]
  },
  {
   "cell_type": "code",
   "execution_count": 163,
   "metadata": {},
   "outputs": [
    {
     "data": {
      "text/html": [
       "<div>\n",
       "<style scoped>\n",
       "    .dataframe tbody tr th:only-of-type {\n",
       "        vertical-align: middle;\n",
       "    }\n",
       "\n",
       "    .dataframe tbody tr th {\n",
       "        vertical-align: top;\n",
       "    }\n",
       "\n",
       "    .dataframe thead th {\n",
       "        text-align: right;\n",
       "    }\n",
       "</style>\n",
       "<table border=\"1\" class=\"dataframe\">\n",
       "  <thead>\n",
       "    <tr style=\"text-align: right;\">\n",
       "      <th></th>\n",
       "      <th>id</th>\n",
       "      <th>production_budget</th>\n",
       "      <th>domestic_gross</th>\n",
       "      <th>worldwide_gross</th>\n",
       "      <th>releaseYear</th>\n",
       "      <th>worldwide_ROI</th>\n",
       "      <th>domestic_ROI</th>\n",
       "      <th>P/L</th>\n",
       "    </tr>\n",
       "  </thead>\n",
       "  <tbody>\n",
       "    <tr>\n",
       "      <th>id</th>\n",
       "      <td>1.000000</td>\n",
       "      <td>-0.077675</td>\n",
       "      <td>-0.040658</td>\n",
       "      <td>-0.047642</td>\n",
       "      <td>0.086065</td>\n",
       "      <td>0.055791</td>\n",
       "      <td>0.061338</td>\n",
       "      <td>-0.036506</td>\n",
       "    </tr>\n",
       "    <tr>\n",
       "      <th>production_budget</th>\n",
       "      <td>-0.077675</td>\n",
       "      <td>1.000000</td>\n",
       "      <td>0.709825</td>\n",
       "      <td>0.779370</td>\n",
       "      <td>0.095527</td>\n",
       "      <td>-0.063019</td>\n",
       "      <td>-0.150902</td>\n",
       "      <td>0.667320</td>\n",
       "    </tr>\n",
       "    <tr>\n",
       "      <th>domestic_gross</th>\n",
       "      <td>-0.040658</td>\n",
       "      <td>0.709825</td>\n",
       "      <td>1.000000</td>\n",
       "      <td>0.943035</td>\n",
       "      <td>0.082532</td>\n",
       "      <td>0.239641</td>\n",
       "      <td>0.166300</td>\n",
       "      <td>0.937042</td>\n",
       "    </tr>\n",
       "    <tr>\n",
       "      <th>worldwide_gross</th>\n",
       "      <td>-0.047642</td>\n",
       "      <td>0.779370</td>\n",
       "      <td>0.943035</td>\n",
       "      <td>1.000000</td>\n",
       "      <td>0.069030</td>\n",
       "      <td>0.222236</td>\n",
       "      <td>0.082607</td>\n",
       "      <td>0.986736</td>\n",
       "    </tr>\n",
       "    <tr>\n",
       "      <th>releaseYear</th>\n",
       "      <td>0.086065</td>\n",
       "      <td>0.095527</td>\n",
       "      <td>0.082532</td>\n",
       "      <td>0.069030</td>\n",
       "      <td>1.000000</td>\n",
       "      <td>0.048672</td>\n",
       "      <td>0.061747</td>\n",
       "      <td>0.057304</td>\n",
       "    </tr>\n",
       "    <tr>\n",
       "      <th>worldwide_ROI</th>\n",
       "      <td>0.055791</td>\n",
       "      <td>-0.063019</td>\n",
       "      <td>0.239641</td>\n",
       "      <td>0.222236</td>\n",
       "      <td>0.048672</td>\n",
       "      <td>1.000000</td>\n",
       "      <td>0.910793</td>\n",
       "      <td>0.280490</td>\n",
       "    </tr>\n",
       "    <tr>\n",
       "      <th>domestic_ROI</th>\n",
       "      <td>0.061338</td>\n",
       "      <td>-0.150902</td>\n",
       "      <td>0.166300</td>\n",
       "      <td>0.082607</td>\n",
       "      <td>0.061747</td>\n",
       "      <td>0.910793</td>\n",
       "      <td>1.000000</td>\n",
       "      <td>0.137288</td>\n",
       "    </tr>\n",
       "    <tr>\n",
       "      <th>P/L</th>\n",
       "      <td>-0.036506</td>\n",
       "      <td>0.667320</td>\n",
       "      <td>0.937042</td>\n",
       "      <td>0.986736</td>\n",
       "      <td>0.057304</td>\n",
       "      <td>0.280490</td>\n",
       "      <td>0.137288</td>\n",
       "      <td>1.000000</td>\n",
       "    </tr>\n",
       "  </tbody>\n",
       "</table>\n",
       "</div>"
      ],
      "text/plain": [
       "                         id  production_budget  domestic_gross  \\\n",
       "id                 1.000000          -0.077675       -0.040658   \n",
       "production_budget -0.077675           1.000000        0.709825   \n",
       "domestic_gross    -0.040658           0.709825        1.000000   \n",
       "worldwide_gross   -0.047642           0.779370        0.943035   \n",
       "releaseYear        0.086065           0.095527        0.082532   \n",
       "worldwide_ROI      0.055791          -0.063019        0.239641   \n",
       "domestic_ROI       0.061338          -0.150902        0.166300   \n",
       "P/L               -0.036506           0.667320        0.937042   \n",
       "\n",
       "                   worldwide_gross  releaseYear  worldwide_ROI  domestic_ROI  \\\n",
       "id                       -0.047642     0.086065       0.055791      0.061338   \n",
       "production_budget         0.779370     0.095527      -0.063019     -0.150902   \n",
       "domestic_gross            0.943035     0.082532       0.239641      0.166300   \n",
       "worldwide_gross           1.000000     0.069030       0.222236      0.082607   \n",
       "releaseYear               0.069030     1.000000       0.048672      0.061747   \n",
       "worldwide_ROI             0.222236     0.048672       1.000000      0.910793   \n",
       "domestic_ROI              0.082607     0.061747       0.910793      1.000000   \n",
       "P/L                       0.986736     0.057304       0.280490      0.137288   \n",
       "\n",
       "                        P/L  \n",
       "id                -0.036506  \n",
       "production_budget  0.667320  \n",
       "domestic_gross     0.937042  \n",
       "worldwide_gross    0.986736  \n",
       "releaseYear        0.057304  \n",
       "worldwide_ROI      0.280490  \n",
       "domestic_ROI       0.137288  \n",
       "P/L                1.000000  "
      ]
     },
     "execution_count": 163,
     "metadata": {},
     "output_type": "execute_result"
    }
   ],
   "source": [
    "recentBudgets_df.corr()"
   ]
  },
  {
   "cell_type": "markdown",
   "metadata": {},
   "source": [
    "#### Looking above at the table of correlations, some interesting statistics are shown. As you might expect, there is a moderate positive correlation between production budget and both worldwide and domestic gross revenues. The larger the movie, the more revenue you could probably expect. However, budgets have the smallest of effects on a movie's overall profitability. In fact, the correlation between budget and both global and worldwide ROIs is actually negative. This underscores just how difficult it is to produce a successful hit movie and the formula is not as simple as pouring dollars in."
   ]
  },
  {
   "cell_type": "markdown",
   "metadata": {},
   "source": [
    "# Data Visualizations"
   ]
  },
  {
   "cell_type": "markdown",
   "metadata": {},
   "source": [
    "### Let's look at some graphs showing budget vs global and domestic ROI"
   ]
  },
  {
   "cell_type": "code",
   "execution_count": 184,
   "metadata": {},
   "outputs": [
    {
     "data": {
      "text/plain": [
       "Text(0, 0.5, 'ROI(%)')"
      ]
     },
     "execution_count": 184,
     "metadata": {},
     "output_type": "execute_result"
    },
    {
     "data": {
      "image/png": "[encoded data removed]",
      "text/plain": [
       "<Figure size 360x360 with 1 Axes>"
      ]
     },
     "metadata": {
      "needs_background": "light"
     },
     "output_type": "display_data"
    }
   ],
   "source": [
    "ax = recentBudgets_df.plot(x = 'production_budget', y = 'worldwide_ROI', kind = \"scatter\", figsize = (5,5), \n",
    "                           label = 'worldwide_ROI')\n",
    "\n",
    "plt.xlabel('Budget($100M)',fontsize = 12)\n",
    "plt.ylabel('ROI(%)', fontsize = 12)\n"
   ]
  },
  {
   "cell_type": "code",
   "execution_count": 185,
   "metadata": {},
   "outputs": [
    {
     "data": {
      "text/plain": [
       "Text(0, 0.5, 'ROI(%)')"
      ]
     },
     "execution_count": 185,
     "metadata": {},
     "output_type": "execute_result"
    },
    {
     "data": {
      "image/png": "[encoded data removed]",
      "text/plain": [
       "<Figure size 360x360 with 1 Axes>"
      ]
     },
     "metadata": {
      "needs_background": "light"
     },
     "output_type": "display_data"
    }
   ],
   "source": [
    "ax = recentBudgets_df.plot(x = 'production_budget', y = 'domestic_ROI', kind = \"scatter\", figsize = (5,5), \n",
    "                           label = 'domestic_ROI', color = 'r')\n",
    "plt.xlabel('Budget($100M)',fontsize = 12)\n",
    "plt.ylabel('ROI(%)', fontsize = 12)"
   ]
  },
  {
   "cell_type": "markdown",
   "metadata": {},
   "source": [
    "### ROI has nearly no correlation to Budget"
   ]
  },
  {
   "cell_type": "markdown",
   "metadata": {},
   "source": [
    "## What genre(s) of movies should Microsoft pursue?"
   ]
  },
  {
   "cell_type": "markdown",
   "metadata": {},
   "source": [
    "### Let's start by looking at the types of info in our dataframes"
   ]
  },
  {
   "cell_type": "code",
   "execution_count": 26,
   "metadata": {},
   "outputs": [
    {
     "name": "stdout",
     "output_type": "stream",
     "text": [
      "<class 'pandas.core.frame.DataFrame'>\n",
      "RangeIndex: 26517 entries, 0 to 26516\n",
      "Data columns (total 10 columns):\n",
      " #   Column             Non-Null Count  Dtype  \n",
      "---  ------             --------------  -----  \n",
      " 0   Unnamed: 0         26517 non-null  int64  \n",
      " 1   genre_ids          26517 non-null  object \n",
      " 2   id                 26517 non-null  int64  \n",
      " 3   original_language  26517 non-null  object \n",
      " 4   original_title     26517 non-null  object \n",
      " 5   popularity         26517 non-null  float64\n",
      " 6   release_date       26517 non-null  object \n",
      " 7   title              26517 non-null  object \n",
      " 8   vote_average       26517 non-null  float64\n",
      " 9   vote_count         26517 non-null  int64  \n",
      "dtypes: float64(2), int64(3), object(5)\n",
      "memory usage: 2.0+ MB\n"
     ]
    }
   ],
   "source": [
    "tmdb_movies_df.info()"
   ]
  },
  {
   "cell_type": "code",
   "execution_count": 27,
   "metadata": {},
   "outputs": [
    {
     "name": "stdout",
     "output_type": "stream",
     "text": [
      "<class 'pandas.core.frame.DataFrame'>\n",
      "RangeIndex: 54432 entries, 0 to 54431\n",
      "Data columns (total 8 columns):\n",
      " #   Column      Non-Null Count  Dtype \n",
      "---  ------      --------------  ----- \n",
      " 0   id          54432 non-null  int64 \n",
      " 1   review      48869 non-null  object\n",
      " 2   rating      40915 non-null  object\n",
      " 3   fresh       54432 non-null  object\n",
      " 4   critic      51710 non-null  object\n",
      " 5   top_critic  54432 non-null  int64 \n",
      " 6   publisher   54123 non-null  object\n",
      " 7   date        54432 non-null  object\n",
      "dtypes: int64(2), object(6)\n",
      "memory usage: 3.3+ MB\n"
     ]
    }
   ],
   "source": [
    "rt_reviews_df.info()"
   ]
  },
  {
   "cell_type": "markdown",
   "metadata": {},
   "source": [
    "### After looking at the rt_reviews_df table, movie titles were not listed so we only focused on tmdb_movies_df. We want some rows with certain amount of vote count, so we check the describe and drop all row with low vote count."
   ]
  },
  {
   "cell_type": "code",
   "execution_count": 29,
   "metadata": {},
   "outputs": [
    {
     "data": {
      "text/plain": [
       "count    26517.000000\n",
       "mean       194.224837\n",
       "std        960.961095\n",
       "min          1.000000\n",
       "25%          2.000000\n",
       "50%          5.000000\n",
       "75%         28.000000\n",
       "max      22186.000000\n",
       "Name: vote_count, dtype: float64"
      ]
     },
     "execution_count": 29,
     "metadata": {},
     "output_type": "execute_result"
    }
   ],
   "source": [
    "tmdb_movies_df['vote_count'].describe()"
   ]
  },
  {
   "cell_type": "markdown",
   "metadata": {},
   "source": [
    "### Drop all rows below vote_count.mean() and rows with no genre id\n"
   ]
  },
  {
   "cell_type": "code",
   "execution_count": 31,
   "metadata": {},
   "outputs": [],
   "source": [
    "tmdb_movies_df.drop(tmdb_movies_df[tmdb_movies_df['vote_count'] < 195].index, inplace = True)\n",
    "tmdb_movies_df.drop(tmdb_movies_df[tmdb_movies_df['genre_ids'] == '[]'].index, inplace = True)"
   ]
  },
  {
   "cell_type": "markdown",
   "metadata": {},
   "source": [
    "### Let's look at the new vote count"
   ]
  },
  {
   "cell_type": "code",
   "execution_count": 67,
   "metadata": {},
   "outputs": [
    {
     "data": {
      "text/plain": [
       "count     2707.000000\n",
       "mean      1754.238271\n",
       "std       2515.682917\n",
       "min        195.000000\n",
       "25%        353.000000\n",
       "50%        726.000000\n",
       "75%       1930.500000\n",
       "max      22186.000000\n",
       "Name: vote_count, dtype: float64"
      ]
     },
     "execution_count": 67,
     "metadata": {},
     "output_type": "execute_result"
    }
   ],
   "source": [
    "tmdb_movies_df['vote_count'].describe()"
   ]
  },
  {
   "cell_type": "markdown",
   "metadata": {},
   "source": [
    "## The Correlation between Good rating and popularity"
   ]
  },
  {
   "cell_type": "code",
   "execution_count": 33,
   "metadata": {},
   "outputs": [
    {
     "data": {
      "text/html": [
       "<div>\n",
       "<style scoped>\n",
       "    .dataframe tbody tr th:only-of-type {\n",
       "        vertical-align: middle;\n",
       "    }\n",
       "\n",
       "    .dataframe tbody tr th {\n",
       "        vertical-align: top;\n",
       "    }\n",
       "\n",
       "    .dataframe thead th {\n",
       "        text-align: right;\n",
       "    }\n",
       "</style>\n",
       "<table border=\"1\" class=\"dataframe\">\n",
       "  <thead>\n",
       "    <tr style=\"text-align: right;\">\n",
       "      <th></th>\n",
       "      <th>Unnamed: 0</th>\n",
       "      <th>id</th>\n",
       "      <th>popularity</th>\n",
       "      <th>vote_average</th>\n",
       "      <th>vote_count</th>\n",
       "    </tr>\n",
       "  </thead>\n",
       "  <tbody>\n",
       "    <tr>\n",
       "      <th>Unnamed: 0</th>\n",
       "      <td>1.000000</td>\n",
       "      <td>0.877460</td>\n",
       "      <td>0.205507</td>\n",
       "      <td>0.066075</td>\n",
       "      <td>-0.001465</td>\n",
       "    </tr>\n",
       "    <tr>\n",
       "      <th>id</th>\n",
       "      <td>0.877460</td>\n",
       "      <td>1.000000</td>\n",
       "      <td>0.084313</td>\n",
       "      <td>0.043523</td>\n",
       "      <td>-0.116771</td>\n",
       "    </tr>\n",
       "    <tr>\n",
       "      <th>popularity</th>\n",
       "      <td>0.205507</td>\n",
       "      <td>0.084313</td>\n",
       "      <td>1.000000</td>\n",
       "      <td>0.235176</td>\n",
       "      <td>0.690093</td>\n",
       "    </tr>\n",
       "    <tr>\n",
       "      <th>vote_average</th>\n",
       "      <td>0.066075</td>\n",
       "      <td>0.043523</td>\n",
       "      <td>0.235176</td>\n",
       "      <td>1.000000</td>\n",
       "      <td>0.323624</td>\n",
       "    </tr>\n",
       "    <tr>\n",
       "      <th>vote_count</th>\n",
       "      <td>-0.001465</td>\n",
       "      <td>-0.116771</td>\n",
       "      <td>0.690093</td>\n",
       "      <td>0.323624</td>\n",
       "      <td>1.000000</td>\n",
       "    </tr>\n",
       "  </tbody>\n",
       "</table>\n",
       "</div>"
      ],
      "text/plain": [
       "              Unnamed: 0        id  popularity  vote_average  vote_count\n",
       "Unnamed: 0      1.000000  0.877460    0.205507      0.066075   -0.001465\n",
       "id              0.877460  1.000000    0.084313      0.043523   -0.116771\n",
       "popularity      0.205507  0.084313    1.000000      0.235176    0.690093\n",
       "vote_average    0.066075  0.043523    0.235176      1.000000    0.323624\n",
       "vote_count     -0.001465 -0.116771    0.690093      0.323624    1.000000"
      ]
     },
     "execution_count": 33,
     "metadata": {},
     "output_type": "execute_result"
    }
   ],
   "source": [
    "tmdb_movies_df.corr(method = 'pearson')"
   ]
  },
  {
   "cell_type": "markdown",
   "metadata": {},
   "source": [
    "### Let's create a visualization for the average vote score vs popularity "
   ]
  },
  {
   "cell_type": "markdown",
   "metadata": {},
   "source": [
    "### Even if your movie is highly rated, popularity is not assured"
   ]
  },
  {
   "cell_type": "code",
   "execution_count": 34,
   "metadata": {},
   "outputs": [
    {
     "data": {
      "text/plain": [
       "<AxesSubplot:xlabel='vote_average', ylabel='popularity'>"
      ]
     },
     "execution_count": 34,
     "metadata": {},
     "output_type": "execute_result"
    },
    {
     "data": {
      "image/png": "[encoded data removed]",
      "text/plain": [
       "<Figure size 432x288 with 1 Axes>"
      ]
     },
     "metadata": {
      "needs_background": "light"
     },
     "output_type": "display_data"
    }
   ],
   "source": [
    "tmdb_movies_df.plot(x = 'vote_average', y = 'popularity', kind = \"scatter\")"
   ]
  },
  {
   "cell_type": "markdown",
   "metadata": {},
   "source": [
    "## Popularity is more valuable than rating. Which genre(s) are most popular?"
   ]
  },
  {
   "cell_type": "markdown",
   "metadata": {},
   "source": [
    "### We must convert genre from integer to string"
   ]
  },
  {
   "cell_type": "code",
   "execution_count": 35,
   "metadata": {},
   "outputs": [],
   "source": [
    "swap_dict = {\n",
    "    28 : \"Action\",\n",
    "    12 : \"Adventure\",\n",
    "    16 : \"Animation\",\n",
    "    35 : \"Comedy\",\n",
    "    80 : \"Crime\",\n",
    "    99 : \"Documentary\",\n",
    "    18 : \"Drama\",\n",
    "    10751 : \"Family\",\n",
    "    14 : \"Fantasy\",\n",
    "    36 : \"History\",\n",
    "    27 : \"Horror\",\n",
    "    10402 : \"Music\",\n",
    "    9648 : \"Mystery\",\n",
    "    10749 : \"Romance\",\n",
    "    878 : \"Science Fiction\",\n",
    "    10770 : \"TV Movie\",\n",
    "    53 : \"Triller\",\n",
    "    10752 : \"War\",\n",
    "    37 : \"Western\"\n",
    "}"
   ]
  },
  {
   "cell_type": "code",
   "execution_count": 36,
   "metadata": {},
   "outputs": [
    {
     "data": {
      "text/plain": [
       "['Comedy', 'Drama', 'Fantasy', 'Horror', 'Mystery']"
      ]
     },
     "execution_count": 36,
     "metadata": {},
     "output_type": "execute_result"
    }
   ],
   "source": [
    "def swap_genre(data):\n",
    "    new_list = []\n",
    "    finallist = []\n",
    "    for str_num in data.split(','):\n",
    "        new_list.append(int(str_num.strip('[], ')))\n",
    "    for x in new_list:\n",
    "        finallist.append(swap_dict[x])\n",
    "    return finallist\n",
    "\n",
    "tet = '[12, 14, 10751]' \n",
    "swap_genre(tmdb_movies_df['genre_ids'][218])"
   ]
  },
  {
   "cell_type": "code",
   "execution_count": 37,
   "metadata": {},
   "outputs": [],
   "source": [
    "#drop row with no number contain in genre_ids column.\n",
    "tmdb_movies_df.drop(tmdb_movies_df[tmdb_movies_df['genre_ids'] == \"[]\"].index, inplace = True)"
   ]
  },
  {
   "cell_type": "code",
   "execution_count": 38,
   "metadata": {},
   "outputs": [],
   "source": [
    "#create a new column call genre_string_names, that contain genre into string.\n",
    "tmdb_movies_df['genre_string_names'] = tmdb_movies_df['genre_ids'].map(lambda x: swap_genre(x))"
   ]
  },
  {
   "cell_type": "code",
   "execution_count": 39,
   "metadata": {},
   "outputs": [
    {
     "data": {
      "text/plain": [
       "0                             [Adventure, Fantasy, Family]\n",
       "1                  [Fantasy, Adventure, Animation, Family]\n",
       "2                     [Adventure, Action, Science Fiction]\n",
       "3                              [Animation, Comedy, Family]\n",
       "4                     [Action, Science Fiction, Adventure]\n",
       "                               ...                        \n",
       "24409                                   [Mystery, Triller]\n",
       "24422                                      [Comedy, Drama]\n",
       "24462    [Action, Animation, Fantasy, Adventure, Comedy...\n",
       "24472                                             [Comedy]\n",
       "24546                            [Fantasy, Drama, Mystery]\n",
       "Name: genre_string_names, Length: 2707, dtype: object"
      ]
     },
     "execution_count": 39,
     "metadata": {},
     "output_type": "execute_result"
    }
   ],
   "source": [
    "tmdb_movies_df['genre_string_names']"
   ]
  },
  {
   "cell_type": "markdown",
   "metadata": {},
   "source": [
    "### Store all rating and popularity as list in a dict call dict_of_genre."
   ]
  },
  {
   "cell_type": "code",
   "execution_count": 40,
   "metadata": {},
   "outputs": [],
   "source": [
    "\n",
    "dict_of_genre = {\n",
    "    \"Action\" : {\"rating\" : [], \"popularity\" : []},\n",
    "    \"Adventure\" : {\"rating\" : [], \"popularity\" : []},\n",
    "    \"Animation\" : {\"rating\" : [], \"popularity\" : []},\n",
    "    \"Comedy\" : {\"rating\" : [], \"popularity\" : []},\n",
    "    \"Crime\" : {\"rating\" : [], \"popularity\" : []},\n",
    "    \"Documentary\" : {\"rating\" : [], \"popularity\" : []},\n",
    "    \"Drama\" : {\"rating\" : [], \"popularity\" : []},\n",
    "    \"Family\" : {\"rating\" : [], \"popularity\" : []},\n",
    "    \"Fantasy\" : {\"rating\" : [], \"popularity\" : []},\n",
    "    \"History\" : {\"rating\" : [], \"popularity\" : []},\n",
    "    \"Horror\" : {\"rating\" : [], \"popularity\" : []},\n",
    "    \"Music\" : {\"rating\" : [], \"popularity\" : []},\n",
    "    \"Mystery\" : {\"rating\" : [], \"popularity\" : []},\n",
    "    \"Romance\" : {\"rating\" : [], \"popularity\" : []},\n",
    "    \"Science Fiction\" : {\"rating\" : [], \"popularity\" : []},\n",
    "    \"TV Movie\" : {\"rating\" : [], \"popularity\" : []},\n",
    "    \"Triller\" : {\"rating\" : [], \"popularity\" : []},\n",
    "    \"War\" : {\"rating\" : [], \"popularity\" : []},\n",
    "    \"Western\" : {\"rating\" : [], \"popularity\" : []}\n",
    "}\n",
    "for index, row in tmdb_movies_df.iterrows():\n",
    "    for genre in row[\"genre_string_names\"]:\n",
    "        if genre in dict_of_genre:\n",
    "            dict_of_genre[genre][\"rating\"].append(row[\"vote_average\"])\n",
    "            dict_of_genre[genre][\"popularity\"].append(row[\"popularity\"])"
   ]
  },
  {
   "cell_type": "markdown",
   "metadata": {},
   "source": [
    "#### Let's write a function"
   ]
  },
  {
   "cell_type": "code",
   "execution_count": 41,
   "metadata": {},
   "outputs": [
    {
     "data": {
      "text/plain": [
       "{'Action': {'avg_rating': 6.33, 'avg_popularity': 16.16},\n",
       " 'Adventure': {'avg_rating': 6.48, 'avg_popularity': 17.39},\n",
       " 'Animation': {'avg_rating': 6.89, 'avg_popularity': 14.13},\n",
       " 'Comedy': {'avg_rating': 6.34, 'avg_popularity': 11.75},\n",
       " 'Crime': {'avg_rating': 6.43, 'avg_popularity': 12.68},\n",
       " 'Documentary': {'avg_rating': 7.51, 'avg_popularity': 7.98},\n",
       " 'Drama': {'avg_rating': 6.72, 'avg_popularity': 11.35},\n",
       " 'Family': {'avg_rating': 6.61, 'avg_popularity': 14.61},\n",
       " 'Fantasy': {'avg_rating': 6.48, 'avg_popularity': 16.41},\n",
       " 'History': {'avg_rating': 7.01, 'avg_popularity': 12.05},\n",
       " 'Horror': {'avg_rating': 5.8, 'avg_popularity': 11.16},\n",
       " 'Music': {'avg_rating': 6.74, 'avg_popularity': 11.19},\n",
       " 'Mystery': {'avg_rating': 6.32, 'avg_popularity': 12.13},\n",
       " 'Romance': {'avg_rating': 6.62, 'avg_popularity': 10.98},\n",
       " 'Science Fiction': {'avg_rating': 6.36, 'avg_popularity': 16.18},\n",
       " 'TV Movie': {'avg_rating': 6.54, 'avg_popularity': 8.72},\n",
       " 'Triller': {'avg_rating': 6.2, 'avg_popularity': 12.47},\n",
       " 'War': {'avg_rating': 6.94, 'avg_popularity': 13.28},\n",
       " 'Western': {'avg_rating': 6.5, 'avg_popularity': 13.98}}"
      ]
     },
     "execution_count": 41,
     "metadata": {},
     "output_type": "execute_result"
    }
   ],
   "source": [
    " \n",
    "def find_avg(data):\n",
    "    total = 0\n",
    "    lenght = len(data)\n",
    "    for num in data:\n",
    "        total += num\n",
    "    return (total/lenght)\n",
    "\n",
    "dict_of_genre_avg_value = dict_of_genre\n",
    "for genre in dict_of_genre_avg_value:\n",
    "    dict_of_genre_avg_value[genre][\"avg_rating\"] = find_avg(dict_of_genre[genre]['rating'])\n",
    "    dict_of_genre_avg_value[genre][\"avg_popularity\"] = find_avg(dict_of_genre[genre]['popularity'])\n",
    "    del dict_of_genre_avg_value[genre]['rating']\n",
    "    del dict_of_genre_avg_value[genre]['popularity']\n",
    "    dict_of_genre_avg_value[genre][\"avg_rating\"] = round(dict_of_genre_avg_value[genre][\"avg_rating\"],2)\n",
    "    dict_of_genre_avg_value[genre][\"avg_popularity\"] = round(dict_of_genre_avg_value[genre][\"avg_popularity\"],2)\n",
    "dict_of_genre_avg_value"
   ]
  },
  {
   "cell_type": "code",
   "execution_count": 42,
   "metadata": {},
   "outputs": [
    {
     "data": {
      "text/plain": [
       "Action             {'avg_rating': 6.33, 'avg_popularity': 16.16}\n",
       "Adventure          {'avg_rating': 6.48, 'avg_popularity': 17.39}\n",
       "Animation          {'avg_rating': 6.89, 'avg_popularity': 14.13}\n",
       "Comedy             {'avg_rating': 6.34, 'avg_popularity': 11.75}\n",
       "Crime              {'avg_rating': 6.43, 'avg_popularity': 12.68}\n",
       "Documentary         {'avg_rating': 7.51, 'avg_popularity': 7.98}\n",
       "Drama              {'avg_rating': 6.72, 'avg_popularity': 11.35}\n",
       "Family             {'avg_rating': 6.61, 'avg_popularity': 14.61}\n",
       "Fantasy            {'avg_rating': 6.48, 'avg_popularity': 16.41}\n",
       "History            {'avg_rating': 7.01, 'avg_popularity': 12.05}\n",
       "Horror              {'avg_rating': 5.8, 'avg_popularity': 11.16}\n",
       "Music              {'avg_rating': 6.74, 'avg_popularity': 11.19}\n",
       "Mystery            {'avg_rating': 6.32, 'avg_popularity': 12.13}\n",
       "Romance            {'avg_rating': 6.62, 'avg_popularity': 10.98}\n",
       "Science Fiction    {'avg_rating': 6.36, 'avg_popularity': 16.18}\n",
       "TV Movie            {'avg_rating': 6.54, 'avg_popularity': 8.72}\n",
       "Triller             {'avg_rating': 6.2, 'avg_popularity': 12.47}\n",
       "War                {'avg_rating': 6.94, 'avg_popularity': 13.28}\n",
       "Western             {'avg_rating': 6.5, 'avg_popularity': 13.98}\n",
       "dtype: object"
      ]
     },
     "execution_count": 42,
     "metadata": {},
     "output_type": "execute_result"
    }
   ],
   "source": [
    "genre_series = pd.Series(dict_of_genre_avg_value)\n",
    "genre_series"
   ]
  },
  {
   "cell_type": "markdown",
   "metadata": {},
   "source": [
    "### We now have a table of the genres listed in order of popularity"
   ]
  },
  {
   "cell_type": "code",
   "execution_count": 228,
   "metadata": {},
   "outputs": [
    {
     "data": {
      "text/html": [
       "<div>\n",
       "<style scoped>\n",
       "    .dataframe tbody tr th:only-of-type {\n",
       "        vertical-align: middle;\n",
       "    }\n",
       "\n",
       "    .dataframe tbody tr th {\n",
       "        vertical-align: top;\n",
       "    }\n",
       "\n",
       "    .dataframe thead th {\n",
       "        text-align: right;\n",
       "    }\n",
       "</style>\n",
       "<table border=\"1\" class=\"dataframe\">\n",
       "  <thead>\n",
       "    <tr style=\"text-align: right;\">\n",
       "      <th></th>\n",
       "      <th>avg_rating</th>\n",
       "      <th>avg_popularity</th>\n",
       "    </tr>\n",
       "  </thead>\n",
       "  <tbody>\n",
       "    <tr>\n",
       "      <th>Mystery</th>\n",
       "      <td>6.32</td>\n",
       "      <td>12.13</td>\n",
       "    </tr>\n",
       "    <tr>\n",
       "      <th>Triller</th>\n",
       "      <td>6.20</td>\n",
       "      <td>12.47</td>\n",
       "    </tr>\n",
       "    <tr>\n",
       "      <th>Crime</th>\n",
       "      <td>6.43</td>\n",
       "      <td>12.68</td>\n",
       "    </tr>\n",
       "    <tr>\n",
       "      <th>War</th>\n",
       "      <td>6.94</td>\n",
       "      <td>13.28</td>\n",
       "    </tr>\n",
       "    <tr>\n",
       "      <th>Western</th>\n",
       "      <td>6.50</td>\n",
       "      <td>13.98</td>\n",
       "    </tr>\n",
       "    <tr>\n",
       "      <th>Animation</th>\n",
       "      <td>6.89</td>\n",
       "      <td>14.13</td>\n",
       "    </tr>\n",
       "    <tr>\n",
       "      <th>Family</th>\n",
       "      <td>6.61</td>\n",
       "      <td>14.61</td>\n",
       "    </tr>\n",
       "    <tr>\n",
       "      <th>Action</th>\n",
       "      <td>6.33</td>\n",
       "      <td>16.16</td>\n",
       "    </tr>\n",
       "    <tr>\n",
       "      <th>Science Fiction</th>\n",
       "      <td>6.36</td>\n",
       "      <td>16.18</td>\n",
       "    </tr>\n",
       "    <tr>\n",
       "      <th>Fantasy</th>\n",
       "      <td>6.48</td>\n",
       "      <td>16.41</td>\n",
       "    </tr>\n",
       "    <tr>\n",
       "      <th>Adventure</th>\n",
       "      <td>6.48</td>\n",
       "      <td>17.39</td>\n",
       "    </tr>\n",
       "  </tbody>\n",
       "</table>\n",
       "</div>"
      ],
      "text/plain": [
       "                 avg_rating  avg_popularity\n",
       "Mystery                6.32           12.13\n",
       "Triller                6.20           12.47\n",
       "Crime                  6.43           12.68\n",
       "War                    6.94           13.28\n",
       "Western                6.50           13.98\n",
       "Animation              6.89           14.13\n",
       "Family                 6.61           14.61\n",
       "Action                 6.33           16.16\n",
       "Science Fiction        6.36           16.18\n",
       "Fantasy                6.48           16.41\n",
       "Adventure              6.48           17.39"
      ]
     },
     "execution_count": 228,
     "metadata": {},
     "output_type": "execute_result"
    }
   ],
   "source": [
    "genre_df = pd.DataFrame.from_dict(dict_of_genre_avg_value, orient = \"index\")\n",
    "genre_df = genre_df.sort_values(by = 'avg_popularity', ascending = True)[8:]\n",
    "genre_df"
   ]
  },
  {
   "cell_type": "markdown",
   "metadata": {},
   "source": [
    "### Lets look at a visualization of genres by respective rating and popularity"
   ]
  },
  {
   "cell_type": "code",
   "execution_count": 229,
   "metadata": {},
   "outputs": [
    {
     "data": {
      "text/plain": [
       "Text(0, 0.5, 'Genre')"
      ]
     },
     "execution_count": 229,
     "metadata": {},
     "output_type": "execute_result"
    },
    {
     "data": {
      "image/png": "[encoded data removed]",
      "text/plain": [
       "<Figure size 864x720 with 1 Axes>"
      ]
     },
     "metadata": {
      "needs_background": "light"
     },
     "output_type": "display_data"
    }
   ],
   "source": [
    "#make the genre_df to a bar chart\n",
    "genre_df.plot(y = 'avg_popularity',kind = \"barh\", figsize = (12,10), title = \"avaerge popularity in different genre\", fontsize = 23, color = \"r\")\n",
    "plt.xlabel('Percentage of Voters',fontsize = 20)\n",
    "plt.ylabel('Genre', fontsize = 20)"
   ]
  },
  {
   "cell_type": "markdown",
   "metadata": {},
   "source": [
    "### Adventure, Fantasy, Science Fiction, Action are the genre Microsoft should focus on"
   ]
  },
  {
   "cell_type": "code",
   "execution_count": null,
   "metadata": {},
   "outputs": [],
   "source": []
  },
  {
   "cell_type": "code",
   "execution_count": null,
   "metadata": {},
   "outputs": [],
   "source": []
  },
  {
   "cell_type": "markdown",
   "metadata": {},
   "source": [
    "## Who are the directors Microsoft should want based upon our chosen genres and box office success?\n",
    "\n",
    "### Let's look at the respective datatypes"
   ]
  },
  {
   "cell_type": "code",
   "execution_count": 195,
   "metadata": {},
   "outputs": [
    {
     "data": {
      "text/plain": [
       "id                 0\n",
       "synopsis          62\n",
       "rating             3\n",
       "genre              8\n",
       "director         199\n",
       "writer           449\n",
       "theater_date     359\n",
       "dvd_date         359\n",
       "currency        1220\n",
       "box_office      1220\n",
       "runtime           30\n",
       "studio          1066\n",
       "dtype: int64"
      ]
     },
     "execution_count": 195,
     "metadata": {},
     "output_type": "execute_result"
    }
   ],
   "source": [
    "#check the rt_movie_info_df and drop NaN row.\n",
    "rt_movie_info_df.isna().sum()"
   ]
  },
  {
   "cell_type": "code",
   "execution_count": 196,
   "metadata": {},
   "outputs": [],
   "source": [
    "rt_movie_info_df.dropna(inplace = True)"
   ]
  },
  {
   "cell_type": "code",
   "execution_count": 197,
   "metadata": {},
   "outputs": [
    {
     "data": {
      "text/plain": [
       "id              0\n",
       "synopsis        0\n",
       "rating          0\n",
       "genre           0\n",
       "director        0\n",
       "writer          0\n",
       "theater_date    0\n",
       "dvd_date        0\n",
       "currency        0\n",
       "box_office      0\n",
       "runtime         0\n",
       "studio          0\n",
       "dtype: int64"
      ]
     },
     "execution_count": 197,
     "metadata": {},
     "output_type": "execute_result"
    }
   ],
   "source": [
    "rt_movie_info_df.isna().sum()"
   ]
  },
  {
   "cell_type": "code",
   "execution_count": 198,
   "metadata": {},
   "outputs": [],
   "source": [
    "#convert genre, director, writer to string. convert box_office to num.\n",
    "rt_movie_info_df.loc[:, 'genre'] = rt_movie_info_df[\"genre\"].astype('string')\n",
    "rt_movie_info_df.loc[:, 'director'] = rt_movie_info_df[\"director\"].astype('string')\n",
    "rt_movie_info_df.loc[:, 'writer'] = rt_movie_info_df[\"writer\"].astype('string')\n",
    "rt_movie_info_df.loc[:, 'box_office'] = rt_movie_info_df[\"box_office\"].str.replace(\",\", \"\").astype('int64')"
   ]
  },
  {
   "cell_type": "code",
   "execution_count": 199,
   "metadata": {},
   "outputs": [
    {
     "data": {
      "text/plain": [
       "id               int64\n",
       "synopsis        object\n",
       "rating          object\n",
       "genre           string\n",
       "director        string\n",
       "writer          string\n",
       "theater_date    object\n",
       "dvd_date        object\n",
       "currency        object\n",
       "box_office       int64\n",
       "runtime         object\n",
       "studio          object\n",
       "dtype: object"
      ]
     },
     "execution_count": 199,
     "metadata": {},
     "output_type": "execute_result"
    }
   ],
   "source": [
    "rt_movie_info_df.dtypes"
   ]
  },
  {
   "cell_type": "code",
   "execution_count": 200,
   "metadata": {},
   "outputs": [],
   "source": [
    "#list genre, writer, director columns sorting by box_office\n",
    "select_dict_df = rt_movie_info_df[['genre', 'director', 'box_office']].sort_values(by = 'box_office', ascending = False)"
   ]
  },
  {
   "cell_type": "code",
   "execution_count": 201,
   "metadata": {},
   "outputs": [
    {
     "data": {
      "text/html": [
       "<div>\n",
       "<style scoped>\n",
       "    .dataframe tbody tr th:only-of-type {\n",
       "        vertical-align: middle;\n",
       "    }\n",
       "\n",
       "    .dataframe tbody tr th {\n",
       "        vertical-align: top;\n",
       "    }\n",
       "\n",
       "    .dataframe thead th {\n",
       "        text-align: right;\n",
       "    }\n",
       "</style>\n",
       "<table border=\"1\" class=\"dataframe\">\n",
       "  <thead>\n",
       "    <tr style=\"text-align: right;\">\n",
       "      <th></th>\n",
       "      <th>genre</th>\n",
       "      <th>director</th>\n",
       "      <th>box_office</th>\n",
       "    </tr>\n",
       "  </thead>\n",
       "  <tbody>\n",
       "    <tr>\n",
       "      <th>827</th>\n",
       "      <td>Drama</td>\n",
       "      <td>Mel Gibson</td>\n",
       "      <td>368000000</td>\n",
       "    </tr>\n",
       "    <tr>\n",
       "      <th>877</th>\n",
       "      <td>Action and Adventure|Science Fiction and Fantasy</td>\n",
       "      <td>Peter Jackson</td>\n",
       "      <td>303001229</td>\n",
       "    </tr>\n",
       "    <tr>\n",
       "      <th>1188</th>\n",
       "      <td>Action and Adventure|Mystery and Suspense</td>\n",
       "      <td>Sam Mendes</td>\n",
       "      <td>299300000</td>\n",
       "    </tr>\n",
       "    <tr>\n",
       "      <th>690</th>\n",
       "      <td>Comedy</td>\n",
       "      <td>Jay Roach</td>\n",
       "      <td>279167575</td>\n",
       "    </tr>\n",
       "    <tr>\n",
       "      <th>1117</th>\n",
       "      <td>Kids and Family|Science Fiction and Fantasy</td>\n",
       "      <td>Chris Columbus</td>\n",
       "      <td>261835892</td>\n",
       "    </tr>\n",
       "    <tr>\n",
       "      <th>...</th>\n",
       "      <td>...</td>\n",
       "      <td>...</td>\n",
       "      <td>...</td>\n",
       "    </tr>\n",
       "    <tr>\n",
       "      <th>1353</th>\n",
       "      <td>Drama|Mystery and Suspense</td>\n",
       "      <td>Will Canon</td>\n",
       "      <td>16632</td>\n",
       "    </tr>\n",
       "    <tr>\n",
       "      <th>1269</th>\n",
       "      <td>Art House and International|Drama</td>\n",
       "      <td>Jeanne Labrune</td>\n",
       "      <td>8856</td>\n",
       "    </tr>\n",
       "    <tr>\n",
       "      <th>691</th>\n",
       "      <td>Action and Adventure|Comedy|Drama</td>\n",
       "      <td>Richard Rush</td>\n",
       "      <td>8300</td>\n",
       "    </tr>\n",
       "    <tr>\n",
       "      <th>697</th>\n",
       "      <td>Drama|Horror|Mystery and Suspense</td>\n",
       "      <td>Eric England</td>\n",
       "      <td>3328</td>\n",
       "    </tr>\n",
       "    <tr>\n",
       "      <th>970</th>\n",
       "      <td>Documentary|Special Interest|Television</td>\n",
       "      <td>Erik Gandini</td>\n",
       "      <td>363</td>\n",
       "    </tr>\n",
       "  </tbody>\n",
       "</table>\n",
       "<p>235 rows × 3 columns</p>\n",
       "</div>"
      ],
      "text/plain": [
       "                                                 genre        director  \\\n",
       "827                                              Drama      Mel Gibson   \n",
       "877   Action and Adventure|Science Fiction and Fantasy   Peter Jackson   \n",
       "1188         Action and Adventure|Mystery and Suspense      Sam Mendes   \n",
       "690                                             Comedy       Jay Roach   \n",
       "1117       Kids and Family|Science Fiction and Fantasy  Chris Columbus   \n",
       "...                                                ...             ...   \n",
       "1353                        Drama|Mystery and Suspense      Will Canon   \n",
       "1269                 Art House and International|Drama  Jeanne Labrune   \n",
       "691                  Action and Adventure|Comedy|Drama    Richard Rush   \n",
       "697                  Drama|Horror|Mystery and Suspense    Eric England   \n",
       "970            Documentary|Special Interest|Television    Erik Gandini   \n",
       "\n",
       "      box_office  \n",
       "827    368000000  \n",
       "877    303001229  \n",
       "1188   299300000  \n",
       "690    279167575  \n",
       "1117   261835892  \n",
       "...          ...  \n",
       "1353       16632  \n",
       "1269        8856  \n",
       "691         8300  \n",
       "697         3328  \n",
       "970          363  \n",
       "\n",
       "[235 rows x 3 columns]"
      ]
     },
     "execution_count": 201,
     "metadata": {},
     "output_type": "execute_result"
    }
   ],
   "source": [
    "select_dict_df"
   ]
  },
  {
   "cell_type": "markdown",
   "metadata": {},
   "source": [
    "### Who are the most successful directors in the Action, Adventure, Science Fiction, and Fantasy genre?"
   ]
  },
  {
   "cell_type": "code",
   "execution_count": 204,
   "metadata": {},
   "outputs": [
    {
     "data": {
      "text/html": [
       "<div>\n",
       "<style scoped>\n",
       "    .dataframe tbody tr th:only-of-type {\n",
       "        vertical-align: middle;\n",
       "    }\n",
       "\n",
       "    .dataframe tbody tr th {\n",
       "        vertical-align: top;\n",
       "    }\n",
       "\n",
       "    .dataframe thead th {\n",
       "        text-align: right;\n",
       "    }\n",
       "</style>\n",
       "<table border=\"1\" class=\"dataframe\">\n",
       "  <thead>\n",
       "    <tr style=\"text-align: right;\">\n",
       "      <th></th>\n",
       "      <th>genre</th>\n",
       "      <th>director</th>\n",
       "      <th>box_office</th>\n",
       "    </tr>\n",
       "  </thead>\n",
       "  <tbody>\n",
       "    <tr>\n",
       "      <th>877</th>\n",
       "      <td>Action and Adventure|Science Fiction and Fantasy</td>\n",
       "      <td>Peter Jackson</td>\n",
       "      <td>303001229</td>\n",
       "    </tr>\n",
       "    <tr>\n",
       "      <th>657</th>\n",
       "      <td>Action and Adventure|Science Fiction and Fantasy</td>\n",
       "      <td>Steven Spielberg</td>\n",
       "      <td>234141872</td>\n",
       "    </tr>\n",
       "    <tr>\n",
       "      <th>1237</th>\n",
       "      <td>Action and Adventure|Science Fiction and Fantasy</td>\n",
       "      <td>Bryan Singer</td>\n",
       "      <td>214813155</td>\n",
       "    </tr>\n",
       "    <tr>\n",
       "      <th>338</th>\n",
       "      <td>Action and Adventure|Science Fiction and Fantasy</td>\n",
       "      <td>Tim Story</td>\n",
       "      <td>154485963</td>\n",
       "    </tr>\n",
       "    <tr>\n",
       "      <th>97</th>\n",
       "      <td>Action and Adventure|Science Fiction and Fantasy</td>\n",
       "      <td>Rob Bowman</td>\n",
       "      <td>42929971</td>\n",
       "    </tr>\n",
       "    <tr>\n",
       "      <th>1541</th>\n",
       "      <td>Action and Adventure|Science Fiction and Fantasy</td>\n",
       "      <td>Joss Whedon</td>\n",
       "      <td>25335935</td>\n",
       "    </tr>\n",
       "    <tr>\n",
       "      <th>584</th>\n",
       "      <td>Action and Adventure|Science Fiction and Fantasy</td>\n",
       "      <td>Richard Donner</td>\n",
       "      <td>19375474</td>\n",
       "    </tr>\n",
       "  </tbody>\n",
       "</table>\n",
       "</div>"
      ],
      "text/plain": [
       "                                                 genre          director  \\\n",
       "877   Action and Adventure|Science Fiction and Fantasy     Peter Jackson   \n",
       "657   Action and Adventure|Science Fiction and Fantasy  Steven Spielberg   \n",
       "1237  Action and Adventure|Science Fiction and Fantasy      Bryan Singer   \n",
       "338   Action and Adventure|Science Fiction and Fantasy         Tim Story   \n",
       "97    Action and Adventure|Science Fiction and Fantasy        Rob Bowman   \n",
       "1541  Action and Adventure|Science Fiction and Fantasy       Joss Whedon   \n",
       "584   Action and Adventure|Science Fiction and Fantasy    Richard Donner   \n",
       "\n",
       "      box_office  \n",
       "877    303001229  \n",
       "657    234141872  \n",
       "1237   214813155  \n",
       "338    154485963  \n",
       "97      42929971  \n",
       "1541    25335935  \n",
       "584     19375474  "
      ]
     },
     "execution_count": 204,
     "metadata": {},
     "output_type": "execute_result"
    }
   ],
   "source": [
    "#top 5 rows of writer and director had great success in Action\n",
    "recommended_director_df = select_dict_df.loc[select_dict_df['genre'].map(lambda x : (\"Action and Adventure|Science Fiction and Fantasy\")  in x)]\n",
    "recommended_director_df"
   ]
  },
  {
   "cell_type": "code",
   "execution_count": 234,
   "metadata": {},
   "outputs": [],
   "source": [
    "recommended_director_df = recommended_director_df[['director', 'box_office']]\n",
    "recommended_director_df = recommended_director_df.sort_values(by = 'box_office', ascending = True)"
   ]
  },
  {
   "cell_type": "markdown",
   "metadata": {},
   "source": [
    "## Let's look at the recommended directors and writers Microsoft should align with"
   ]
  },
  {
   "cell_type": "code",
   "execution_count": 236,
   "metadata": {},
   "outputs": [
    {
     "data": {
      "text/plain": [
       "Text(0, 0.5, 'Director')"
      ]
     },
     "execution_count": 236,
     "metadata": {},
     "output_type": "execute_result"
    },
    {
     "data": {
      "image/png": "[encoded data removed]",
      "text/plain": [
       "<Figure size 648x648 with 1 Axes>"
      ]
     },
     "metadata": {
      "needs_background": "light"
     },
     "output_type": "display_data"
    }
   ],
   "source": [
    "recommended_director_df.plot(x = 'director', kind = \"barh\", figsize = (9,9),\n",
    "                             title = \"$100 Million Directors in Action, Adventure, Science Fiction, and Fantasy\",\n",
    "                             fontsize = 20\n",
    "                        )\n",
    "plt.xlabel('Box Office Revenue ($100M)',fontsize = 20)\n",
    "plt.ylabel('Director', fontsize = 20)"
   ]
  },
  {
   "cell_type": "code",
   "execution_count": null,
   "metadata": {},
   "outputs": [],
   "source": []
  }
 ],
 "metadata": {
  "kernelspec": {
   "display_name": "Python 3",
   "language": "python",
   "name": "python3"
  },
  "language_info": {
   "codemirror_mode": {
    "name": "ipython",
    "version": 3
   },
   "file_extension": ".py",
   "mimetype": "text/x-python",
   "name": "python",
   "nbconvert_exporter": "python",
   "pygments_lexer": "ipython3",
   "version": "3.8.5"
  }
 },
 "nbformat": 4,
 "nbformat_minor": 2
}
